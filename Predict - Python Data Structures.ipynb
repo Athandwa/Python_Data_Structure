{
 "cells": [
  {
   "cell_type": "code",
   "execution_count": 253,
   "metadata": {},
   "outputs": [
    {
     "name": "stderr",
     "output_type": "stream",
     "text": [
      "C:\\Users\\JF-25\\Anaconda3\\lib\\site-packages\\IPython\\core\\interactiveshell.py:2698: DtypeWarning: Columns (14,26) have mixed types. Specify dtype option on import or set low_memory=False.\n",
      "  interactivity=interactivity, compiler=compiler, result=result)\n"
     ]
    }
   ],
   "source": [
    "import pandas as pd\n",
    "\n",
    "# Load data - pass 'Name' as our index column\n",
    "load_df = pd.read_csv('football_players.csv', index_col='Name').sample(frac=1)\n",
    "\n",
    "# Create dataframe called df\n",
    "df = pd.DataFrame(load_df)"
   ]
  },
  {
   "cell_type": "code",
   "execution_count": 254,
   "metadata": {
    "collapsed": true
   },
   "outputs": [],
   "source": [
    "def position_type(s):\n",
    "\n",
    "    \"\"\"This function converts the individual positions (abbreviations) and classfies it\n",
    "    as either a forward, midfielder, back or goal keeper\"\"\"\n",
    "\n",
    "    if (s[-2] == 'T') | (s[-2] == 'W'):\n",
    "        return 'Forward'\n",
    "    elif s[-2] == 'M':\n",
    "        return 'Midfielder'\n",
    "    elif s[-2] == 'B':\n",
    "        return 'Back'\n",
    "    else:\n",
    "        return 'GoalKeeper'\n",
    "\n",
    "# Create position type column\n",
    "df['Preferred Positions Type'] = df['Preferred Positions'].apply(position_type)"
   ]
  },
  {
   "cell_type": "code",
   "execution_count": 255,
   "metadata": {
    "collapsed": true
   },
   "outputs": [],
   "source": [
    "# Select all attribute columns\n",
    "cols = ['Overall', 'Acceleration', 'Aggression',\n",
    "       'Agility', 'Balance', 'Ball control', 'Composure', 'Crossing', 'Curve',\n",
    "       'Dribbling', 'Finishing', 'Free kick accuracy', 'GK diving',\n",
    "       'GK handling', 'GK kicking', 'GK positioning', 'GK reflexes',\n",
    "       'Heading accuracy', 'Interceptions', 'Jumping', 'Long passing',\n",
    "       'Long shots', 'Marking', 'Penalties', 'Positioning', 'Reactions',\n",
    "       'Short passing', 'Shot power', 'Sliding tackle', 'Sprint speed',\n",
    "       'Stamina', 'Standing tackle', 'Strength', 'Vision', 'Volleys']\n",
    "\n",
    "def to_float(x):\n",
    "    \"Transforms attribute columns to type float\"\n",
    "\n",
    "    if type(x) is int:\n",
    "        return float(x)\n",
    "    else:\n",
    "        return float(x[0:2])\n",
    "\n",
    "df[cols] = df[cols].applymap(to_float)"
   ]
  },
  {
   "cell_type": "code",
   "execution_count": 256,
   "metadata": {
    "collapsed": true
   },
   "outputs": [],
   "source": [
    "### START FUNCTION 1\n",
    "\n",
    "def best_defender_1(rank, max_age):\n",
    "\n",
    "    # YOUR CODE HERE\n",
    "    \n",
    "    position_conditional = df['Preferred Positions Type'] == \"Back\"\n",
    "    age_conditional = df[\"Age\"] < max_age\n",
    "    \n",
    "    data = df[position_conditional & age_conditional].reset_index()\n",
    "    data_sort = data.sort_values([\"Overall\", \"Name\"], ascending=False)\n",
    "    \n",
    "    return data_sort.iloc[rank -1][\"Name\"]\n",
    "\n",
    "### END FUNCTION 1\n"
   ]
  },
  {
   "cell_type": "code",
   "execution_count": 257,
   "metadata": {
    "scrolled": true
   },
   "outputs": [
    {
     "data": {
      "text/plain": [
       "'T. Alderweireld'"
      ]
     },
     "execution_count": 257,
     "metadata": {},
     "output_type": "execute_result"
    }
   ],
   "source": [
    "best_defender_1(10, 35)"
   ]
  },
  {
   "cell_type": "code",
   "execution_count": 258,
   "metadata": {
    "collapsed": true
   },
   "outputs": [],
   "source": [
    " ### START FUNCTION 2\n",
    "\n",
    "def best_defender_2(rank, max_age, max_aggression, min_stamina):\n",
    "\n",
    "    # YOUR CODE HERE\n",
    "    \n",
    "    players_position = df[\"Preferred Positions Type\"] == \"Back\"\n",
    "    players_age = df[\"Age\"] < max_age\n",
    "    players_aggression = df[\"Aggression\"] < max_aggression\n",
    "    players_stamina = df[\"Stamina\"] > min_stamina\n",
    "    \n",
    "    best_def2 = df[players_age & players_aggression & players_stamina & players_position].reset_index()\n",
    "    defenders_sort = best_def2.sort_values([\"Overall\", \"Name\"], ascending=False)\n",
    "    \n",
    "    return defenders_sort.iloc[rank -1]['Name']\n",
    "\n",
    "\n",
    "### END FUNCTION 2"
   ]
  },
  {
   "cell_type": "code",
   "execution_count": 259,
   "metadata": {},
   "outputs": [
    {
     "data": {
      "text/plain": [
       "'K. Walker'"
      ]
     },
     "execution_count": 259,
     "metadata": {},
     "output_type": "execute_result"
    }
   ],
   "source": [
    "best_defender_2(10, 30, 80, 60)"
   ]
  },
  {
   "cell_type": "code",
   "execution_count": 260,
   "metadata": {
    "collapsed": true
   },
   "outputs": [],
   "source": [
    "def best_defender_3(rank, max_age, team):\n",
    "\n",
    "    # YOUR CODE HERE\n",
    "   \n",
    "    defender3_position = df[\"Preferred Positions Type\"] == \"Back\"\n",
    "    defender3_age = df[\"Age\"] < max_age\n",
    "    team_name = df[\"Nationality\"] != team\n",
    "    \n",
    "    best_def3 = df[defender3_position & defender3_age & team_name].reset_index()\n",
    "    sort_defender3 = best_def3.sort_values([\"Overall\", \"Name\"], ascending=False)\n",
    "    \n",
    "    return sort_defender3.iloc[rank -1][\"Name\"]\n",
    "    \n",
    "\n",
    "### END FUNCTION 3"
   ]
  },
  {
   "cell_type": "code",
   "execution_count": 261,
   "metadata": {},
   "outputs": [
    {
     "data": {
      "text/plain": [
       "'D. Alaba'"
      ]
     },
     "execution_count": 261,
     "metadata": {},
     "output_type": "execute_result"
    }
   ],
   "source": [
    "best_defender_3(16, 35, 'South Africa')"
   ]
  },
  {
   "cell_type": "code",
   "execution_count": 262,
   "metadata": {},
   "outputs": [],
   "source": [
    "### START FUNCTION 4\n",
    "\n",
    "def best_attacker_1(rank, attribute_name, min_attribute_score):\n",
    "\n",
    "    # YOUR CODE HERE\n",
    "    \n",
    "    attacker_position = df[\"Preferred Positions Type\"] == \"Forward\"\n",
    "    players_condition = df[attribute_name] > min_attribute_score\n",
    "    \n",
    "    best_attacker_1 = df[attacker_position & players_condition].reset_index()\n",
    "    sort_att = best_attacker_1.sort_values([\"Overall\", \"Name\"], ascending=False)\n",
    "    \n",
    "    return sort_att.iloc[rank-1][\"Name\"]\n",
    "\n",
    "### END FUNCTION 4"
   ]
  },
  {
   "cell_type": "code",
   "execution_count": 263,
   "metadata": {},
   "outputs": [
    {
     "data": {
      "text/plain": [
       "'P. Aubameyang'"
      ]
     },
     "execution_count": 263,
     "metadata": {},
     "output_type": "execute_result"
    }
   ],
   "source": [
    "best_attacker_1(10, 'Balance', 50)"
   ]
  },
  {
   "cell_type": "code",
   "execution_count": 264,
   "metadata": {},
   "outputs": [],
   "source": [
    "### START FUNCTION 5\n",
    "\n",
    "def best_attacker_2(rank, attribute_1_name, attribute_2_name, min_attributes_ave):\n",
    "    \n",
    "    # YOUR CODE HERE\n",
    "   \n",
    "    attacker_2_condition = df[\"Preferred Positions Type\"] == \"Forward\"\n",
    "    attacker_2_attribute= ((df[attribute_1_name] + df[attribute_2_name])/2) > min_attributes_ave\n",
    "    \n",
    "    best_att_2 = df[attacker_2_condition & attacker_2_attribute].reset_index()\n",
    "    sort_attac_2 = best_att_2.sort_values([\"Overall\", \"Name\"], ascending=False)\n",
    "    \n",
    "    return sort_attac_2.iloc[rank-1][\"Name\"]\n",
    "    \n",
    "\n",
    "### END FUNCTION 5"
   ]
  },
  {
   "cell_type": "code",
   "execution_count": 265,
   "metadata": {},
   "outputs": [
    {
     "data": {
      "text/plain": [
       "'S. Mané'"
      ]
     },
     "execution_count": 265,
     "metadata": {},
     "output_type": "execute_result"
    }
   ],
   "source": [
    "best_attacker_2(10, 'Finishing', 'Balance', 80)"
   ]
  },
  {
   "cell_type": "code",
   "execution_count": 266,
   "metadata": {
    "collapsed": true
   },
   "outputs": [],
   "source": [
    "### START FUNCTION 6\n",
    "\n",
    "def best_attacker_3(rank, attribute_1_name, attribute_2_name, min_attributes_min):\n",
    "\n",
    "    # YOUR CODE HERE\n",
    "   \n",
    "    position_type = df[\"Preferred Positions Type\"] == \"Forward\"\n",
    "    \n",
    "    #new column with the average of the 2 attributes\n",
    "    df['attack_3_attribiute'] = ((df[[attribute_1_name, attribute_2_name]]).min(axis=1))\n",
    "    \n",
    "    attribute_condition = df['attack_3_attribiute'] > min_attributes_min\n",
    "    \n",
    "    attack_player_3 = df[position_type & attribute_condition].reset_index()\n",
    "    sort_attack_3 = attack_player_3.sort_values([\"Overall\", \"Name\"], ascending=False)\n",
    "    \n",
    "    \n",
    "    return sort_attack_3.iloc[rank-1][\"Name\"]\n",
    "\n",
    "### END FUNCTION 6"
   ]
  },
  {
   "cell_type": "code",
   "execution_count": 267,
   "metadata": {},
   "outputs": [
    {
     "data": {
      "text/plain": [
       "'A. Di María'"
      ]
     },
     "execution_count": 267,
     "metadata": {},
     "output_type": "execute_result"
    }
   ],
   "source": [
    "best_attacker_3(10, 'Balance', 'Composure', 70)"
   ]
  },
  {
   "cell_type": "code",
   "execution_count": 290,
   "metadata": {
    "collapsed": true
   },
   "outputs": [],
   "source": [
    "### START FUNCTION 7\n",
    "\n",
    "def best_team_1(country, no_defenders, max_age):\n",
    "\n",
    "    # YOUR CODE HERE\n",
    "    position_type = df[\"Preferred Positions Type\"] == \"Back\"\n",
    "    country_name = df[\"Nationality\"] == country\n",
    "    players_age = df[\"Age\"] < max_age\n",
    "    \n",
    "    team_condition = df[position_type & players_age & country_name].reset_index()\n",
    "    sorting_a_team = team_condition.sort_values([\"Overall\", \"Name\"], ascending=False)\n",
    "    \n",
    "    \n",
    "    return list(sorting_a_team.iloc[0:no_defenders][\"Name\"])\n",
    "\n",
    "### END FUNCTION 7"
   ]
  },
  {
   "cell_type": "code",
   "execution_count": 296,
   "metadata": {},
   "outputs": [
    {
     "data": {
      "text/plain": [
       "['T. Hlatshwayo', 'T. Matlaba', 'E. Mathoho', 'T. Masilela', 'R. Mphahlele']"
      ]
     },
     "execution_count": 296,
     "metadata": {},
     "output_type": "execute_result"
    }
   ],
   "source": [
    "best_team_1('South Africa', 5, 40)"
   ]
  },
  {
   "cell_type": "code",
   "execution_count": 297,
   "metadata": {
    "collapsed": true
   },
   "outputs": [],
   "source": [
    "### START FUNCTION 8\n",
    "\n",
    "def best_team_2(country, no_attackers, attribute_name, min_attribute_score):\n",
    "\n",
    "    # YOUR CODE HERE\n",
    "    position_type = df[\"Preferred Positions Type\"] == \"Forward\"\n",
    "    country_name = df[\"Nationality\"] == country\n",
    "    players_attribute = df[attribute_name] > min_attribute_score\n",
    "    \n",
    "    best_team_condition = df[position_type & country_name & players_attribute].reset_index()\n",
    "    team_sorting = best_team_condition.sort_values([\"Overall\", \"Name\"], ascending=False)\n",
    "    \n",
    "    return list(team_sorting.iloc[0:no_attackers][\"Name\"])\n",
    "    \n",
    "\n",
    "### END FUNCTION 8"
   ]
  },
  {
   "cell_type": "code",
   "execution_count": 298,
   "metadata": {},
   "outputs": [
    {
     "data": {
      "text/plain": [
       "['H. Kane', 'R. Sterling', 'D. Sturridge']"
      ]
     },
     "execution_count": 298,
     "metadata": {},
     "output_type": "execute_result"
    }
   ],
   "source": [
    "best_team_2('England', 3, 'Finishing', 60)"
   ]
  },
  {
   "cell_type": "code",
   "execution_count": 385,
   "metadata": {},
   "outputs": [],
   "source": [
    "-"
   ]
  },
  {
   "cell_type": "code",
   "execution_count": 386,
   "metadata": {},
   "outputs": [
    {
     "data": {
      "text/plain": [
       "[['H. Kane',\n",
       "  'R. Sterling',\n",
       "  'D. Sturridge',\n",
       "  'G. Cahill',\n",
       "  'K. Walker',\n",
       "  'N. Clyne',\n",
       "  'L. Baines',\n",
       "  'D. Alli',\n",
       "  'A. Lallana',\n",
       "  'J. Henderson',\n",
       "  'J. Hart']]"
      ]
     },
     "execution_count": 386,
     "metadata": {},
     "output_type": "execute_result"
    }
   ],
   "source": [
    "best_team_3('England', 3, 4, 3, 1)"
   ]
  },
  {
   "cell_type": "code",
   "execution_count": 384,
   "metadata": {},
   "outputs": [],
   "source": [
    "def best_team_3(country, no_goalkeepers):\n",
    "\n",
    "\n",
    "    Keeper = df[(df['Preferred Positions Type'] == 'GoalKeeper')&(df['Nationality'] == country)].reset_index().sort_values(['Overall','Name'],ascending=False)\n",
    "    condition_4 = list(Keeper.iloc[0:no_goalkeepers]['Name'])\n",
    "    \n",
    "    final = condition_4\n",
    "    \n",
    "    return final"
   ]
  },
  {
   "cell_type": "code",
   "execution_count": 381,
   "metadata": {},
   "outputs": [
    {
     "data": {
      "text/plain": [
       "['J. Hart']"
      ]
     },
     "execution_count": 381,
     "metadata": {},
     "output_type": "execute_result"
    }
   ],
   "source": [
    "best_team_3('England', 1)"
   ]
  },
  {
   "cell_type": "code",
   "execution_count": null,
   "metadata": {
    "collapsed": true
   },
   "outputs": [],
   "source": []
  }
 ],
 "metadata": {
  "kernelspec": {
   "display_name": "Python 3",
   "language": "python",
   "name": "python3"
  },
  "language_info": {
   "codemirror_mode": {
    "name": "ipython",
    "version": 3
   },
   "file_extension": ".py",
   "mimetype": "text/x-python",
   "name": "python",
   "nbconvert_exporter": "python",
   "pygments_lexer": "ipython3",
   "version": "3.6.3"
  }
 },
 "nbformat": 4,
 "nbformat_minor": 2
}
